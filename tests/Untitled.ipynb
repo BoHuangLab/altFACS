{
 "cells": [
  {
   "cell_type": "code",
   "execution_count": 14,
   "metadata": {
    "scrolled": false
   },
   "outputs": [
    {
     "name": "stdout",
     "output_type": "stream",
     "text": [
      "\n",
      "Please wait a moment while I gather a list of all available modules...\n",
      "\n"
     ]
    },
    {
     "name": "stderr",
     "output_type": "stream",
     "text": [
      "c:\\users\\david brown\\appdata\\local\\programs\\python\\python37\\lib\\site-packages\\IPython\\kernel\\__init__.py:13: ShimWarning: The `IPython.kernel` package has been deprecated since IPython 4.0.You should import from ipykernel or jupyter_client instead.\n",
      "  \"You should import from ipykernel or jupyter_client instead.\", ShimWarning)\n",
      "c:\\users\\david brown\\appdata\\local\\programs\\python\\python37\\lib\\pkgutil.py:107: VisibleDeprecationWarning: zmq.eventloop.minitornado is deprecated in pyzmq 14.0 and will be removed.\n",
      "    Install tornado itself to use zmq with the tornado IOLoop.\n",
      "    \n",
      "  yield from walk_packages(path, info.name+'.', onerror)\n"
     ]
    },
    {
     "name": "stdout",
     "output_type": "stream",
     "text": [
      "IPython             chardet             multiprocessing     tempfile\n",
      "__future__          chunk               nbconvert           terminado\n",
      "_abc                cmath               nbformat            test\n",
      "_ast                cmd                 netbios             test_contours\n",
      "_asyncio            code                netrc               test_saturation\n",
      "_bisect             codecs              nntplib             test_singlets\n",
      "_blake2             codeop              notebook            testpath\n",
      "_bootlocale         collections         nt                  tests\n",
      "_bz2                colorama            ntpath              textwrap\n",
      "_codecs             colorsys            ntsecuritycon       this\n",
      "_codecs_cn          commctrl            nturl2path          threading\n",
      "_codecs_hk          compileall          numbers             time\n",
      "_codecs_iso2022     concurrent          numpy               timeit\n",
      "_codecs_jp          configparser        odbc                timer\n",
      "_codecs_kr          contextlib          opcode              tkinter\n",
      "_codecs_tw          contextvars         operator            token\n",
      "_collections        copy                optparse            tokenize\n",
      "_collections_abc    copyreg             os                  tornado\n",
      "_compat_pickle      crypt               pandas              tqdm\n",
      "_compression        csv                 pandocfilters       trace\n",
      "_contextvars        ctypes              parser              traceback\n",
      "_csv                curses              parso               tracemalloc\n",
      "_ctypes             cythonmagic         pathlib             traitlets\n",
      "_ctypes_test        dataclasses         pdb                 tty\n",
      "_datetime           datetime            perfmon             turtle\n",
      "_decimal            dateutil            pickle              turtledemo\n",
      "_distutils_hack     dbi                 pickleshare         twine\n",
      "_dummy_thread       dbm                 pickletools         types\n",
      "_elementtree        dde                 pip                 typing\n",
      "_functools          decimal             pipes               unicodedata\n",
      "_hashlib            decorator           pkg_resources       unittest\n",
      "_heapq              defusedxml          pkginfo             urllib\n",
      "_imp                difflib             pkgutil             urllib3\n",
      "_io                 dis                 platform            uu\n",
      "_json               distutils           plistlib            uuid\n",
      "_locale             doctest             poplib              venv\n",
      "_lsprof             docutils            posixpath           virtualenv\n",
      "_lzma               dummy_threading     pprint              virtualenv_support\n",
      "_markupbase         easy_install        profile             warnings\n",
      "_md5                email               prometheus_client   wave\n",
      "_msi                encodings           prompt_toolkit      wcwidth\n",
      "_multibytecodec     ensurepip           pstats              weakref\n",
      "_multiprocessing    entrypoints         pty                 webbrowser\n",
      "_opcode             enum                py_compile          webencodings\n",
      "_operator           errno               pyclbr              wheel\n",
      "_osx_support        faulthandler        pydoc               widgetsnbextension\n",
      "_overlapped         filecmp             pydoc_data          win2kras\n",
      "_pickle             fileinput           pyexpat             win32api\n",
      "_py_abc             fnmatch             pygments            win32clipboard\n",
      "_pydecimal          formatter           pyrsistent          win32com\n",
      "_pyio               fractions           pythoncom           win32con\n",
      "_pyrsistent_version ftplib              pytz                win32console\n",
      "_queue              functools           pywin               win32cred\n",
      "_random             gc                  pywin32_testutil    win32crypt\n",
      "_sha1               genericpath         pywintypes          win32cryptcon\n",
      "_sha256             get-pip             qtconsole           win32ctypes\n",
      "_sha3               getopt              queue               win32event\n",
      "_sha512             getpass             quopri              win32evtlog\n",
      "_signal             gettext             random              win32evtlogutil\n",
      "_sitebuiltins       glob                rasutil             win32file\n",
      "_socket             gzip                re                  win32gui\n",
      "_sqlite3            hashlib             readme_renderer     win32gui_struct\n",
      "_sre                heapq               regcheck            win32help\n",
      "_ssl                hmac                regutil             win32inet\n",
      "_stat               html                reprlib             win32inetcon\n",
      "_string             http                requests            win32job\n",
      "_strptime           idlelib             requests_toolbelt   win32lz\n",
      "_struct             idna                rfc3986             win32net\n",
      "_symtable           imaplib             rlcompleter         win32netcon\n",
      "_testbuffer         imghdr              rmagic              win32pdh\n",
      "_testcapi           imp                 runpy               win32pdhquery\n",
      "_testconsole        importlib           sched               win32pdhutil\n",
      "_testimportmultiple importlib_metadata  scipy               win32pipe\n",
      "_testmultiphase     inspect             secrets             win32print\n",
      "_thread             io                  select              win32process\n",
      "_threading_local    ipaddress           selectors           win32profile\n",
      "_tkinter            ipykernel           send2trash          win32ras\n",
      "_tracemalloc        ipykernel_launcher  servicemanager      win32rcparser\n",
      "_warnings           ipython_genutils    setuptools          win32security\n",
      "_weakref            ipywidgets          shelve              win32service\n",
      "_weakrefset         isapi               shlex               win32serviceutil\n",
      "_win32sysloader     itertools           shutil              win32timezone\n",
      "_winapi             jedi                signal              win32trace\n",
      "_winxptheme         jinja2              site                win32traceutil\n",
      "abc                 joblib              six                 win32transaction\n",
      "adodbapi            json                smtpd               win32ts\n",
      "afxres              jsonschema          smtplib             win32ui\n",
      "aifc                jupyter             sndhdr              win32uiole\n",
      "antigravity         jupyter_client      socket              win32verstamp\n",
      "argparse            jupyter_console     socketserver        win32wnet\n",
      "array               jupyter_core        sqlite3             winerror\n",
      "ast                 keyring             sre_compile         winioctlcon\n",
      "asynchat            keyword             sre_constants       winnt\n",
      "asyncio             lib2to3             sre_parse           winperf\n",
      "asyncore            linecache           ssl                 winpty\n",
      "atexit              locale              sspi                winreg\n",
      "attr                logging             sspicon             winsound\n",
      "audioop             lzma                stat                winxpgui\n",
      "autoreload          macpath             statistics          winxptheme\n",
      "backcall            mailbox             storemagic          wsgiref\n",
      "base64              mailcap             string              xdrlib\n",
      "bdb                 markupsafe          stringprep          xlrd\n",
      "binascii            marshal             struct              xml\n",
      "binhex              math                subprocess          xmlrpc\n",
      "bisect              mimetypes           sunau               xxsubtype\n",
      "bleach              mistune             symbol              zipapp\n",
      "builtins            mmap                sympyprinting       zipfile\n",
      "bz2                 mmapfile            symtable            zipimport\n",
      "cProfile            mmsystem            sys                 zipp\n",
      "calendar            modulefinder        sysconfig           zlib\n",
      "certifi             more_itertools      tabnanny            zmq\n",
      "cgi                 msilib              tarfile             \n",
      "cgitb               msvcrt              telnetlib           \n",
      "\n",
      "Enter any module name to get more help.  Or, type \"modules spam\" to search\n",
      "for modules whose name or summary contain the string \"spam\".\n",
      "\n",
      "None\n"
     ]
    }
   ],
   "source": [
    "print(help('modules'))"
   ]
  },
  {
   "cell_type": "code",
   "execution_count": 15,
   "metadata": {},
   "outputs": [
    {
     "ename": "ModuleNotFoundError",
     "evalue": "No module named 'altFACS'",
     "output_type": "error",
     "traceback": [
      "\u001b[1;31m---------------------------------------------------------------------------\u001b[0m",
      "\u001b[1;31mModuleNotFoundError\u001b[0m                       Traceback (most recent call last)",
      "\u001b[1;32m<ipython-input-15-e0697a080b9b>\u001b[0m in \u001b[0;36m<module>\u001b[1;34m\u001b[0m\n\u001b[1;32m----> 1\u001b[1;33m \u001b[1;32mimport\u001b[0m \u001b[0maltFACS\u001b[0m\u001b[1;33m\u001b[0m\u001b[1;33m\u001b[0m\u001b[0m\n\u001b[0m",
      "\u001b[1;31mModuleNotFoundError\u001b[0m: No module named 'altFACS'"
     ]
    }
   ],
   "source": [
    "import altFACS"
   ]
  },
  {
   "cell_type": "code",
   "execution_count": 16,
   "metadata": {},
   "outputs": [
    {
     "ename": "SyntaxError",
     "evalue": "invalid syntax (<ipython-input-16-07fa542f22b1>, line 1)",
     "output_type": "error",
     "traceback": [
      "\u001b[1;36m  File \u001b[1;32m\"<ipython-input-16-07fa542f22b1>\"\u001b[1;36m, line \u001b[1;32m1\u001b[0m\n\u001b[1;33m    import ..altFACS\u001b[0m\n\u001b[1;37m           ^\u001b[0m\n\u001b[1;31mSyntaxError\u001b[0m\u001b[1;31m:\u001b[0m invalid syntax\n"
     ]
    }
   ],
   "source": [
    "import ..altFACS"
   ]
  },
  {
   "cell_type": "code",
   "execution_count": 13,
   "metadata": {
    "scrolled": true
   },
   "outputs": [
    {
     "ename": "ModuleNotFoundError",
     "evalue": "No module named 'altFACS'",
     "output_type": "error",
     "traceback": [
      "\u001b[1;31m---------------------------------------------------------------------------\u001b[0m",
      "\u001b[1;31mModuleNotFoundError\u001b[0m                       Traceback (most recent call last)",
      "\u001b[1;32m<ipython-input-13-1bd4660bcaab>\u001b[0m in \u001b[0;36m<module>\u001b[1;34m\u001b[0m\n\u001b[1;32m----> 1\u001b[1;33m \u001b[1;32mfrom\u001b[0m \u001b[0maltFACS\u001b[0m \u001b[1;32mimport\u001b[0m \u001b[0msaturation\u001b[0m\u001b[1;33m\u001b[0m\u001b[1;33m\u001b[0m\u001b[0m\n\u001b[0m",
      "\u001b[1;31mModuleNotFoundError\u001b[0m: No module named 'altFACS'"
     ]
    }
   ],
   "source": [
    "from altFACS import saturation"
   ]
  },
  {
   "cell_type": "code",
   "execution_count": 12,
   "metadata": {
    "scrolled": true
   },
   "outputs": [
    {
     "ename": "ModuleNotFoundError",
     "evalue": "No module named '__main__.altFACS'; '__main__' is not a package",
     "output_type": "error",
     "traceback": [
      "\u001b[1;31m---------------------------------------------------------------------------\u001b[0m",
      "\u001b[1;31mModuleNotFoundError\u001b[0m                       Traceback (most recent call last)",
      "\u001b[1;32m<ipython-input-12-6f5699b3e988>\u001b[0m in \u001b[0;36m<module>\u001b[1;34m\u001b[0m\n\u001b[1;32m----> 1\u001b[1;33m \u001b[1;32mfrom\u001b[0m \u001b[1;33m.\u001b[0m\u001b[0maltFACS\u001b[0m \u001b[1;32mimport\u001b[0m \u001b[0msaturation\u001b[0m\u001b[1;33m\u001b[0m\u001b[1;33m\u001b[0m\u001b[0m\n\u001b[0m",
      "\u001b[1;31mModuleNotFoundError\u001b[0m: No module named '__main__.altFACS'; '__main__' is not a package"
     ]
    }
   ],
   "source": [
    "from .altFACS import saturation"
   ]
  },
  {
   "cell_type": "code",
   "execution_count": 9,
   "metadata": {
    "scrolled": false
   },
   "outputs": [
    {
     "ename": "ValueError",
     "evalue": "attempted relative import beyond top-level package",
     "output_type": "error",
     "traceback": [
      "\u001b[1;31m---------------------------------------------------------------------------\u001b[0m",
      "\u001b[1;31mValueError\u001b[0m                                Traceback (most recent call last)",
      "\u001b[1;32m<ipython-input-9-6f073482f357>\u001b[0m in \u001b[0;36m<module>\u001b[1;34m\u001b[0m\n\u001b[1;32m----> 1\u001b[1;33m \u001b[1;32mfrom\u001b[0m \u001b[1;33m.\u001b[0m\u001b[1;33m.\u001b[0m\u001b[0maltFACS\u001b[0m \u001b[1;32mimport\u001b[0m \u001b[0msaturation\u001b[0m\u001b[1;33m\u001b[0m\u001b[1;33m\u001b[0m\u001b[0m\n\u001b[0m",
      "\u001b[1;31mValueError\u001b[0m: attempted relative import beyond top-level package"
     ]
    }
   ],
   "source": [
    "from ..altFACS import saturation"
   ]
  },
  {
   "cell_type": "code",
   "execution_count": 11,
   "metadata": {},
   "outputs": [
    {
     "ename": "ModuleNotFoundError",
     "evalue": "No module named 'altFACS'",
     "output_type": "error",
     "traceback": [
      "\u001b[1;31m---------------------------------------------------------------------------\u001b[0m",
      "\u001b[1;31mModuleNotFoundError\u001b[0m                       Traceback (most recent call last)",
      "\u001b[1;32m<ipython-input-11-f5410ea48c70>\u001b[0m in \u001b[0;36m<module>\u001b[1;34m\u001b[0m\n\u001b[1;32m----> 1\u001b[1;33m \u001b[1;32mfrom\u001b[0m \u001b[0mtest_saturation\u001b[0m \u001b[1;32mimport\u001b[0m \u001b[1;33m*\u001b[0m\u001b[1;33m\u001b[0m\u001b[1;33m\u001b[0m\u001b[0m\n\u001b[0m",
      "\u001b[1;32m~\\Documents\\PythonScripts_New\\altFACS\\tests\\test_saturation.py\u001b[0m in \u001b[0;36m<module>\u001b[1;34m\u001b[0m\n\u001b[0;32m      3\u001b[0m \u001b[1;32mimport\u001b[0m \u001b[0mnumpy\u001b[0m \u001b[1;32mas\u001b[0m \u001b[0mnp\u001b[0m\u001b[1;33m\u001b[0m\u001b[1;33m\u001b[0m\u001b[0m\n\u001b[0;32m      4\u001b[0m \u001b[1;32mimport\u001b[0m \u001b[0mpandas\u001b[0m \u001b[1;32mas\u001b[0m \u001b[0mpd\u001b[0m\u001b[1;33m\u001b[0m\u001b[1;33m\u001b[0m\u001b[0m\n\u001b[1;32m----> 5\u001b[1;33m \u001b[1;32mfrom\u001b[0m \u001b[0maltFACS\u001b[0m\u001b[1;33m.\u001b[0m\u001b[0msaturation\u001b[0m  \u001b[1;32mimport\u001b[0m \u001b[1;33m*\u001b[0m\u001b[1;33m\u001b[0m\u001b[1;33m\u001b[0m\u001b[0m\n\u001b[0m\u001b[0;32m      6\u001b[0m \u001b[1;33m\u001b[0m\u001b[0m\n\u001b[0;32m      7\u001b[0m \u001b[1;31m# Generate test DataFrame\u001b[0m\u001b[1;33m\u001b[0m\u001b[1;33m\u001b[0m\u001b[1;33m\u001b[0m\u001b[0m\n",
      "\u001b[1;31mModuleNotFoundError\u001b[0m: No module named 'altFACS'"
     ]
    }
   ],
   "source": [
    "from test_saturation import *"
   ]
  },
  {
   "cell_type": "code",
   "execution_count": 2,
   "metadata": {},
   "outputs": [
    {
     "name": "stdout",
     "output_type": "stream",
     "text": [
      "Object `test_maskChannelSaturation` not found.\n"
     ]
    }
   ],
   "source": [
    "test_maskChannelSaturation?"
   ]
  },
  {
   "cell_type": "code",
   "execution_count": 3,
   "metadata": {},
   "outputs": [],
   "source": [
    "TestSaturation?"
   ]
  },
  {
   "cell_type": "code",
   "execution_count": 5,
   "metadata": {},
   "outputs": [],
   "source": [
    "import nose2"
   ]
  },
  {
   "cell_type": "code",
   "execution_count": 7,
   "metadata": {},
   "outputs": [],
   "source": [
    "nose2?"
   ]
  },
  {
   "cell_type": "code",
   "execution_count": 8,
   "metadata": {},
   "outputs": [],
   "source": [
    "from test_contours import *"
   ]
  },
  {
   "cell_type": "code",
   "execution_count": 2,
   "metadata": {
    "scrolled": true
   },
   "outputs": [
    {
     "ename": "ModuleNotFoundError",
     "evalue": "No module named 'altFACS'",
     "output_type": "error",
     "traceback": [
      "\u001b[1;31m---------------------------------------------------------------------------\u001b[0m",
      "\u001b[1;31mModuleNotFoundError\u001b[0m                       Traceback (most recent call last)",
      "\u001b[1;32m<ipython-input-2-592451ffada2>\u001b[0m in \u001b[0;36m<module>\u001b[1;34m\u001b[0m\n\u001b[1;32m----> 1\u001b[1;33m \u001b[1;32mfrom\u001b[0m \u001b[0maltFACS\u001b[0m\u001b[1;33m.\u001b[0m\u001b[0mcontours\u001b[0m \u001b[1;32mimport\u001b[0m \u001b[1;33m*\u001b[0m\u001b[1;33m\u001b[0m\u001b[1;33m\u001b[0m\u001b[0m\n\u001b[0m",
      "\u001b[1;31mModuleNotFoundError\u001b[0m: No module named 'altFACS'"
     ]
    }
   ],
   "source": [
    "from altFACS.contours import *"
   ]
  },
  {
   "cell_type": "code",
   "execution_count": 5,
   "metadata": {},
   "outputs": [
    {
     "data": {
      "text/plain": [
       "'C:\\\\Users\\\\David Brown\\\\Documents\\\\PythonScripts_New\\\\altFACS\\\\tests'"
      ]
     },
     "execution_count": 5,
     "metadata": {},
     "output_type": "execute_result"
    }
   ],
   "source": [
    "pwd"
   ]
  },
  {
   "cell_type": "code",
   "execution_count": 10,
   "metadata": {},
   "outputs": [
    {
     "name": "stdout",
     "output_type": "stream",
     "text": [
      "['C:\\\\Users\\\\David Brown\\\\Documents\\\\PythonScripts_New\\\\altFACS\\\\tests', 'c:\\\\users\\\\david brown\\\\appdata\\\\local\\\\programs\\\\python\\\\python37\\\\python37.zip', 'c:\\\\users\\\\david brown\\\\appdata\\\\local\\\\programs\\\\python\\\\python37\\\\DLLs', 'c:\\\\users\\\\david brown\\\\appdata\\\\local\\\\programs\\\\python\\\\python37\\\\lib', 'c:\\\\users\\\\david brown\\\\appdata\\\\local\\\\programs\\\\python\\\\python37', '', 'C:\\\\Users\\\\David Brown\\\\AppData\\\\Roaming\\\\Python\\\\Python37\\\\site-packages', 'c:\\\\users\\\\david brown\\\\appdata\\\\local\\\\programs\\\\python\\\\python37\\\\lib\\\\site-packages', 'c:\\\\users\\\\david brown\\\\appdata\\\\local\\\\programs\\\\python\\\\python37\\\\lib\\\\site-packages\\\\win32', 'c:\\\\users\\\\david brown\\\\appdata\\\\local\\\\programs\\\\python\\\\python37\\\\lib\\\\site-packages\\\\win32\\\\lib', 'c:\\\\users\\\\david brown\\\\appdata\\\\local\\\\programs\\\\python\\\\python37\\\\lib\\\\site-packages\\\\Pythonwin', 'c:\\\\users\\\\david brown\\\\appdata\\\\local\\\\programs\\\\python\\\\python37\\\\lib\\\\site-packages\\\\IPython\\\\extensions', 'C:\\\\Users\\\\David Brown\\\\.ipython']\n"
     ]
    }
   ],
   "source": [
    "import sys\n",
    "print(sys.path)"
   ]
  },
  {
   "cell_type": "code",
   "execution_count": 6,
   "metadata": {},
   "outputs": [
    {
     "ename": "ValueError",
     "evalue": "attempted relative import beyond top-level package",
     "output_type": "error",
     "traceback": [
      "\u001b[1;31m---------------------------------------------------------------------------\u001b[0m",
      "\u001b[1;31mValueError\u001b[0m                                Traceback (most recent call last)",
      "\u001b[1;32m<ipython-input-6-fb5bf798c858>\u001b[0m in \u001b[0;36m<module>\u001b[1;34m\u001b[0m\n\u001b[1;32m----> 1\u001b[1;33m \u001b[1;32mfrom\u001b[0m \u001b[1;33m.\u001b[0m\u001b[1;33m.\u001b[0m\u001b[0mcontours\u001b[0m \u001b[1;32mimport\u001b[0m \u001b[1;33m*\u001b[0m\u001b[1;33m\u001b[0m\u001b[1;33m\u001b[0m\u001b[0m\n\u001b[0m",
      "\u001b[1;31mValueError\u001b[0m: attempted relative import beyond top-level package"
     ]
    }
   ],
   "source": [
    "from ..contours import *"
   ]
  },
  {
   "cell_type": "code",
   "execution_count": 10,
   "metadata": {},
   "outputs": [],
   "source": [
    "__package__"
   ]
  },
  {
   "cell_type": "code",
   "execution_count": 9,
   "metadata": {},
   "outputs": [
    {
     "ename": "ModuleNotFoundError",
     "evalue": "No module named 'contours'",
     "output_type": "error",
     "traceback": [
      "\u001b[1;31m---------------------------------------------------------------------------\u001b[0m",
      "\u001b[1;31mModuleNotFoundError\u001b[0m                       Traceback (most recent call last)",
      "\u001b[1;32m<ipython-input-9-f130437c6060>\u001b[0m in \u001b[0;36m<module>\u001b[1;34m\u001b[0m\n\u001b[0;32m      1\u001b[0m \u001b[1;32mif\u001b[0m \u001b[0m__package__\u001b[0m \u001b[1;32mis\u001b[0m \u001b[1;32mNone\u001b[0m \u001b[1;32mor\u001b[0m \u001b[0m__package__\u001b[0m \u001b[1;33m==\u001b[0m \u001b[1;34m''\u001b[0m\u001b[1;33m:\u001b[0m\u001b[1;33m\u001b[0m\u001b[1;33m\u001b[0m\u001b[0m\n\u001b[0;32m      2\u001b[0m     \u001b[1;31m# uses current directory visibility\u001b[0m\u001b[1;33m\u001b[0m\u001b[1;33m\u001b[0m\u001b[1;33m\u001b[0m\u001b[0m\n\u001b[1;32m----> 3\u001b[1;33m     \u001b[1;32mimport\u001b[0m \u001b[0mcontours\u001b[0m\u001b[1;33m\u001b[0m\u001b[1;33m\u001b[0m\u001b[0m\n\u001b[0m\u001b[0;32m      4\u001b[0m \u001b[1;32melse\u001b[0m\u001b[1;33m:\u001b[0m\u001b[1;33m\u001b[0m\u001b[1;33m\u001b[0m\u001b[0m\n\u001b[0;32m      5\u001b[0m     \u001b[1;31m# uses current package visibility\u001b[0m\u001b[1;33m\u001b[0m\u001b[1;33m\u001b[0m\u001b[1;33m\u001b[0m\u001b[0m\n",
      "\u001b[1;31mModuleNotFoundError\u001b[0m: No module named 'contours'"
     ]
    }
   ],
   "source": [
    "if __package__ is None or __package__ == '':\n",
    "    # uses current directory visibility\n",
    "    import contours\n",
    "else:\n",
    "    # uses current package visibility\n",
    "    from ..altFACS import contours"
   ]
  }
 ],
 "metadata": {
  "kernelspec": {
   "display_name": "Python 3",
   "language": "python",
   "name": "python3"
  },
  "language_info": {
   "codemirror_mode": {
    "name": "ipython",
    "version": 3
   },
   "file_extension": ".py",
   "mimetype": "text/x-python",
   "name": "python",
   "nbconvert_exporter": "python",
   "pygments_lexer": "ipython3",
   "version": "3.7.3"
  }
 },
 "nbformat": 4,
 "nbformat_minor": 2
}
